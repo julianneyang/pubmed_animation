{
 "cells": [
  {
   "cell_type": "code",
   "execution_count": 28,
   "id": "208c1236-b959-4d48-8cf0-fb8658ab1ded",
   "metadata": {},
   "outputs": [
    {
     "name": "stdout",
     "output_type": "stream",
     "text": [
      "/home/julianne/Documents/pubmed_animation\n"
     ]
    }
   ],
   "source": [
    "%cd \"/home/julianne/Documents/pubmed_animation/\""
   ]
  },
  {
   "cell_type": "code",
   "execution_count": 29,
   "id": "b8361616-87ae-4280-a21d-98fc4be747a3",
   "metadata": {},
   "outputs": [],
   "source": [
    "from matplotlib import animation\n",
    "import matplotlib.pyplot as plt\n",
    "from matplotlib.animation import FuncAnimation\n",
    "import seaborn as sns\n",
    "import numpy as np\n",
    "%matplotlib qt"
   ]
  },
  {
   "cell_type": "code",
   "execution_count": 40,
   "id": "b1c19200-b538-4b67-9b2c-57f6d96ceba7",
   "metadata": {},
   "outputs": [],
   "source": [
    "# Read the data\n",
    "df = pd.read_csv(\"Publications_Disease.csv\")\n",
    "year = df['Year'].values\n",
    "microbiome = df['Microbiome'].values\n",
    "miRnome = df['miRnome'].values\n",
    "transcriptome = df['Transcriptome'].values\n",
    "metabolome = df['Metabolome'].values\n",
    "\n",
    "# Reverse the order of the arrays\n",
    "transcriptome = transcriptome[::-1]\n",
    "microbiome = microbiome[::-1]\n",
    "metabolome = metabolome[::-1]\n",
    "miRnome = miRnome[::-1]\n",
    "year=year[::-1]\n",
    "\n",
    "# Set up the palette and labels\n",
    "palette = list(reversed(sns.color_palette(\"Spectral\", 4).as_hex()))\n",
    "labels = [\"Microbiome\", \"Transcriptome\", \"Metabolome\", \"miRnome\"]\n",
    "\n",
    "# Create the plot\n",
    "fig = plt.figure(figsize=(7, 5))\n",
    "axes = fig.add_subplot(1, 1, 1)\n",
    "axes.set_xlim(0, 15000)\n",
    "plt.style.use(\"seaborn\")\n",
    "axes.set_xlabel(\"Number of Publications\", fontsize=14)\n",
    "\n",
    "def animate(i):\n",
    "    y1 = transcriptome[i]\n",
    "    y2 = microbiome[i]\n",
    "    y3 = metabolome[i]\n",
    "    y4 = miRnome[i]\n",
    "\n",
    "    # Clear previous bars\n",
    "    axes.clear()\n",
    "    axes.set_xlim(0, 15000)\n",
    "    axes.set_xlabel(\"Number of Publications\", fontsize=14)\n",
    "    \n",
    "    values = [y1, y2, y3, y4]\n",
    "    tickdic = {\"Transcriptome\": y1, \"Microbiome\": y2, \"Metabolome\": y3, \"miRnome\": y4}\n",
    "    sorted_tickdic = sorted(tickdic.items(), key=lambda x: x[1])\n",
    "    tcks = [i[0] for i in sorted_tickdic]\n",
    "    sorted_values = [i[1] for i in sorted_tickdic]\n",
    "    \n",
    "    # Sort colors according to the sorted order of tick labels\n",
    "    sorted_palette = [palette[labels.index(label)] for label in tcks]\n",
    "    \n",
    "    plt.barh(range(4), sorted_values, color=sorted_palette)\n",
    "    plt.title(f\"Number of Publications, Year: {year[i]}\", color=\"blue\", fontsize=16)\n",
    "    plt.yticks(np.arange(4), tcks, fontsize=12)\n",
    "\n",
    "# Keep a reference to the animation object to prevent it from being garbage collected\n",
    "ani = FuncAnimation(fig, animate, frames=len(year), interval=100, repeat=False)\n",
    "\n",
    "# Show the plot\n",
    "plt.show()\n",
    "\n",
    "# To keep the animation object alive, assign it to a global variable\n",
    "global_ani = ani\n"
   ]
  },
  {
   "cell_type": "code",
   "execution_count": null,
   "id": "c70a496c-03ec-49f5-acce-15aaba73383a",
   "metadata": {},
   "outputs": [],
   "source": []
  }
 ],
 "metadata": {
  "kernelspec": {
   "display_name": "Python 3 (ipykernel)",
   "language": "python",
   "name": "python3"
  },
  "language_info": {
   "codemirror_mode": {
    "name": "ipython",
    "version": 3
   },
   "file_extension": ".py",
   "mimetype": "text/x-python",
   "name": "python",
   "nbconvert_exporter": "python",
   "pygments_lexer": "ipython3",
   "version": "3.9.7"
  }
 },
 "nbformat": 4,
 "nbformat_minor": 5
}
